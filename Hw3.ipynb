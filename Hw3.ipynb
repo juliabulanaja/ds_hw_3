{
 "cells": [
  {
   "cell_type": "code",
   "execution_count": 405,
   "id": "201bf754-28a2-4fd0-9658-e8991d6d8da6",
   "metadata": {},
   "outputs": [],
   "source": [
    "import pandas as pd\n",
    "import numpy as np\n",
    "import matplotlib.pyplot as plt\n",
    "from sklearn.linear_model import LinearRegression\n",
    "from sklearn.metrics import mean_squared_error\n"
   ]
  },
  {
   "cell_type": "markdown",
   "id": "3713963b-2553-4bf2-bca4-b01e1ade8786",
   "metadata": {},
   "source": [
    "1. Напишіть функцію гіпотези лінійної регресії у векторному вигляді;"
   ]
  },
  {
   "cell_type": "code",
   "execution_count": 373,
   "id": "99ab9d59-c41e-4c1f-8a38-61dfebf71e3e",
   "metadata": {},
   "outputs": [],
   "source": [
    "def h(x, w):\n",
    "    x = np.append([1], x)\n",
    "    return np.dot(w, x)"
   ]
  },
  {
   "cell_type": "markdown",
   "id": "40706602-3675-445e-8d3b-7fca5fb0705b",
   "metadata": {},
   "source": [
    "2. Cтворіть функцію для обчислення функції втрат у векторному вигляді;"
   ]
  },
  {
   "cell_type": "code",
   "execution_count": 374,
   "id": "e781f24e-33e7-4f3c-9513-97589d67d84b",
   "metadata": {},
   "outputs": [],
   "source": [
    "def loss_function(w, df):\n",
    "    n = df.shape[0]\n",
    "    cost = 0\n",
    "\n",
    "    for index, row in df.iterrows():\n",
    "        x_1 = row['area']\n",
    "        x_2 = row['bedrooms']\n",
    "        x_3 = row['bathrooms']\n",
    "        y = row['price']\n",
    "\n",
    "        x = np.array([x_1, x_2, x_3])\n",
    "        \n",
    "        cost += (h(x, w) - y) ** 2\n",
    "        \n",
    "    return cost / (2 * n)"
   ]
  },
  {
   "cell_type": "markdown",
   "id": "4b4c1187-0dd3-4761-9169-721cc757db46",
   "metadata": {},
   "source": [
    "3. Реалізуйте один крок градієнтного спуску;"
   ]
  },
  {
   "cell_type": "code",
   "execution_count": 375,
   "id": "aea17a5b-c809-4552-880e-604dfa5ee695",
   "metadata": {},
   "outputs": [],
   "source": [
    "def grad_step(weights, grads, learning_rate = 0.01):\n",
    "\n",
    "    w_0, w_1, w_2, w_3 = weights\n",
    "    g_0, g_1, g_2, g_3 = grads\n",
    "\n",
    "    w_0 = w_0 - learning_rate * g_0\n",
    "    w_1 = w_1 - learning_rate * g_1\n",
    "    w_2 = w_2 - learning_rate * g_2\n",
    "    w_3 = w_3 - learning_rate * g_3\n",
    "    \n",
    "    return w_0, w_1, w_2, w_3"
   ]
  },
  {
   "cell_type": "markdown",
   "id": "0fe84ecb-e710-407a-859b-b8db56fe78bf",
   "metadata": {},
   "source": [
    "4. Знайдіть найкращі параметри $\\vec{w}$ для датасету прогнозуючу ціну на будинок залежно від площі, кількості ванних кімнат та кількості спалень;"
   ]
  },
  {
   "cell_type": "code",
   "execution_count": 376,
   "id": "f91a8bc4-dfec-44c7-a7c7-25853b9e5b88",
   "metadata": {},
   "outputs": [],
   "source": [
    "def normalize(data):\n",
    "    mean = data.mean()\n",
    "    range = data.max() - data.min()\n",
    "    \n",
    "    data = (data - mean) / range\n",
    "    \n",
    "    return data"
   ]
  },
  {
   "cell_type": "code",
   "execution_count": 377,
   "id": "0c2bc102-7438-4647-abbc-b7cbf4c8aac6",
   "metadata": {},
   "outputs": [],
   "source": [
    "def grad_w_0(w, df):\n",
    "    n = df.shape[0]\n",
    "    cost = 0\n",
    "\n",
    "    for index, row in df.iterrows():\n",
    "        x_1 = row['area']\n",
    "        x_2 = row['bedrooms']\n",
    "        x_3 = row['bathrooms']\n",
    "        y = row['price']\n",
    "        \n",
    "        x = np.array([x_1, x_2, x_3])\n",
    "        cost += h(x, w) - y\n",
    "    return cost / n"
   ]
  },
  {
   "cell_type": "code",
   "execution_count": 378,
   "id": "7049bd2c-3590-491a-9fda-62771b802d25",
   "metadata": {},
   "outputs": [],
   "source": [
    "def grad_w_1(w, df):\n",
    "    n = df.shape[0]\n",
    "    cost = 0\n",
    "\n",
    "    for index, row in df.iterrows():\n",
    "        x_1 = row['area']\n",
    "        x_2 = row['bedrooms']\n",
    "        x_3 = row['bathrooms']\n",
    "        y = row['price']\n",
    "\n",
    "        x = np.array([x_1, x_2, x_3])        \n",
    "        cost += (h(x, w) - y) * x_1      \n",
    "    return cost / n\n",
    "\n",
    "\n",
    "def grad_w_2(w, df):\n",
    "    n = df.shape[0]\n",
    "    cost = 0\n",
    "\n",
    "    for index, row in df.iterrows():\n",
    "        x_1 = row['area']\n",
    "        x_2 = row['bedrooms']\n",
    "        x_3 = row['bathrooms']\n",
    "        y = row['price']\n",
    "\n",
    "        x = np.array([x_1, x_2, x_3])        \n",
    "        cost += (h(x, w) - y) * x_2\n",
    "        \n",
    "    return cost / n\n",
    "\n",
    "\n",
    "def grad_w_3(w, df):\n",
    "    n = df.shape[0]\n",
    "    cost = 0\n",
    "\n",
    "    for index, row in df.iterrows():\n",
    "        x_1 = row['area']\n",
    "        x_2 = row['bedrooms']\n",
    "        x_3 = row['bathrooms']\n",
    "        y = row['price']\n",
    "\n",
    "        x = np.array([x_1, x_2, x_3])        \n",
    "        cost += (h(x, w) - y) * x_3\n",
    "        \n",
    "    return cost / n"
   ]
  },
  {
   "cell_type": "code",
   "execution_count": 379,
   "id": "40cb44fc-1801-4d00-ba06-719fe9b2286d",
   "metadata": {},
   "outputs": [],
   "source": [
    "def grad_descent(weights, df, num_iter, learning_rate = 0.001, epsilon = 0.01):\n",
    "    \n",
    "    w_0, w_1, w_2, w_3 = weights\n",
    "    loss = loss_function(weights, df)\n",
    "    loss_history = [loss]\n",
    "\n",
    "    for i in range(num_iter):\n",
    "        \n",
    "        grad_w0 = grad_w_0(weights, df)\n",
    "        grad_w1 = grad_w_1(weights, df)\n",
    "        grad_w2 = grad_w_2(weights, df)\n",
    "        grad_w3 = grad_w_3(weights, df)\n",
    "        \n",
    "        grads = grad_w0, grad_w1, grad_w2, grad_w3\n",
    "\n",
    "        w_0, w_1, w_2, w_3 = grad_step(weights, grads, learning_rate)\n",
    "        weights = w_0, w_1, w_2, w_3\n",
    "        \n",
    "        loss = loss_function(weights, df)\n",
    "\n",
    "        if abs(loss - loss_history[-1]) <= epsilon:\n",
    "            loss_history.append(loss)\n",
    "            break\n",
    "    \n",
    "        loss_history.append(loss)\n",
    "\n",
    "    return w_0, w_1, w_2, w_3, loss_history"
   ]
  },
  {
   "cell_type": "code",
   "execution_count": 380,
   "id": "e202d0be-63d5-45c3-b794-893a147465fc",
   "metadata": {},
   "outputs": [],
   "source": [
    "data = pd.read_csv(\"Housing.csv\")"
   ]
  },
  {
   "cell_type": "code",
   "execution_count": 381,
   "id": "50238345-1b57-42c3-bed3-64df02396b0e",
   "metadata": {},
   "outputs": [],
   "source": [
    "norm_data = pd.DataFrame()\n",
    "norm_data[\"area\"] = normalize(data[\"area\"])\n",
    "norm_data[\"bedrooms\"] = normalize(data[\"bedrooms\"])\n",
    "norm_data[\"bathrooms\"] = normalize(data[\"bathrooms\"])\n",
    "norm_data[\"price\"] = normalize(data[\"price\"])"
   ]
  },
  {
   "cell_type": "code",
   "execution_count": 387,
   "id": "2f59099a-7a85-4772-b77d-c2c643737ddd",
   "metadata": {},
   "outputs": [
    {
     "name": "stdout",
     "output_type": "stream",
     "text": [
      "Coefitients: 5.020448888419632e-17, 0.4334673916275597, 0.18904886881067132, 0.3536652641284381\n",
      "Loss function: 0.006735664105912874\n"
     ]
    }
   ],
   "source": [
    "w_0, w_1, w_2, w_3, history = grad_descent((0, 0, 0, 0), norm_data, 1000, learning_rate = 0.1, epsilon = 0.0000001)\n",
    "\n",
    "print(f\"Coefitients: {w_0}, {w_1}, {w_2}, {w_3}\") \n",
    "print(f\"Loss function: {history[-1]}\")"
   ]
  },
  {
   "cell_type": "markdown",
   "id": "7bcc6be4-378f-4e16-8944-877621c28d68",
   "metadata": {},
   "source": [
    "5. Знайдіть ці ж параметри за допомогою аналітичного рішення"
   ]
  },
  {
   "cell_type": "code",
   "execution_count": 402,
   "id": "0022a3c3-136d-4bcc-86f3-37cf52b6cb83",
   "metadata": {},
   "outputs": [
    {
     "name": "stdout",
     "output_type": "stream",
     "text": [
      "Coefitients: 7.014204135081997e-17, 0.47714268958123457, 0.17611256873124786, 0.3600128565690898\n",
      "Loss function: 0.006713405108514903\n"
     ]
    }
   ],
   "source": [
    "X = norm_data[[\"area\", \"bedrooms\", \"bathrooms\"]]\n",
    "y = norm_data[\"price\"]\n",
    "regressor = LinearRegression().fit(X, y)\n",
    "\n",
    "w_a_0 = regressor.intercept_\n",
    "w_a_1 = regressor.coef_[0]\n",
    "w_a_2 = regressor.coef_[1]\n",
    "w_a_3 = regressor.coef_[2]\n",
    "\n",
    "print(f\"Coefitients: {w_a_0}, {w_a_1}, {w_a_2}, {w_a_3}\") \n",
    "print(f\"Loss function: {loss_function((w_a_0, w_a_1, w_a_2, w_a_3), norm_data)}\")"
   ]
  },
  {
   "cell_type": "markdown",
   "id": "bcf8d557-971c-4e16-b098-eb3bf5f11a9a",
   "metadata": {},
   "source": [
    "6. Порівняйте отримані результати."
   ]
  },
  {
   "cell_type": "code",
   "execution_count": 404,
   "id": "40340d8f-6f19-48d2-8fe5-97c5f7ed1b2f",
   "metadata": {},
   "outputs": [
    {
     "data": {
      "text/html": [
       "<div>\n",
       "<style scoped>\n",
       "    .dataframe tbody tr th:only-of-type {\n",
       "        vertical-align: middle;\n",
       "    }\n",
       "\n",
       "    .dataframe tbody tr th {\n",
       "        vertical-align: top;\n",
       "    }\n",
       "\n",
       "    .dataframe thead th {\n",
       "        text-align: right;\n",
       "    }\n",
       "</style>\n",
       "<table border=\"1\" class=\"dataframe\">\n",
       "  <thead>\n",
       "    <tr style=\"text-align: right;\">\n",
       "      <th></th>\n",
       "      <th>area</th>\n",
       "      <th>bedrooms</th>\n",
       "      <th>bathrooms</th>\n",
       "      <th>price</th>\n",
       "      <th>prediction_math</th>\n",
       "      <th>prediction_analitic</th>\n",
       "    </tr>\n",
       "  </thead>\n",
       "  <tbody>\n",
       "    <tr>\n",
       "      <th>0</th>\n",
       "      <td>0.155977</td>\n",
       "      <td>0.206972</td>\n",
       "      <td>0.237920</td>\n",
       "      <td>0.738811</td>\n",
       "      <td>0.190883</td>\n",
       "      <td>0.196528</td>\n",
       "    </tr>\n",
       "    <tr>\n",
       "      <th>1</th>\n",
       "      <td>0.261818</td>\n",
       "      <td>0.206972</td>\n",
       "      <td>0.904587</td>\n",
       "      <td>0.647902</td>\n",
       "      <td>0.472539</td>\n",
       "      <td>0.487038</td>\n",
       "    </tr>\n",
       "    <tr>\n",
       "      <th>2</th>\n",
       "      <td>0.330547</td>\n",
       "      <td>0.006972</td>\n",
       "      <td>0.237920</td>\n",
       "      <td>0.647902</td>\n",
       "      <td>0.228744</td>\n",
       "      <td>0.244600</td>\n",
       "    </tr>\n",
       "    <tr>\n",
       "      <th>3</th>\n",
       "      <td>0.161475</td>\n",
       "      <td>0.206972</td>\n",
       "      <td>0.237920</td>\n",
       "      <td>0.644872</td>\n",
       "      <td>0.193266</td>\n",
       "      <td>0.199151</td>\n",
       "    </tr>\n",
       "    <tr>\n",
       "      <th>4</th>\n",
       "      <td>0.155977</td>\n",
       "      <td>0.206972</td>\n",
       "      <td>-0.095413</td>\n",
       "      <td>0.575175</td>\n",
       "      <td>0.072994</td>\n",
       "      <td>0.076524</td>\n",
       "    </tr>\n",
       "    <tr>\n",
       "      <th>...</th>\n",
       "      <td>...</td>\n",
       "      <td>...</td>\n",
       "      <td>...</td>\n",
       "      <td>...</td>\n",
       "      <td>...</td>\n",
       "      <td>...</td>\n",
       "    </tr>\n",
       "    <tr>\n",
       "      <th>540</th>\n",
       "      <td>-0.147804</td>\n",
       "      <td>-0.193028</td>\n",
       "      <td>-0.095413</td>\n",
       "      <td>-0.255128</td>\n",
       "      <td>-0.134304</td>\n",
       "      <td>-0.138868</td>\n",
       "    </tr>\n",
       "    <tr>\n",
       "      <th>541</th>\n",
       "      <td>-0.189041</td>\n",
       "      <td>0.006972</td>\n",
       "      <td>-0.095413</td>\n",
       "      <td>-0.259704</td>\n",
       "      <td>-0.114369</td>\n",
       "      <td>-0.123321</td>\n",
       "    </tr>\n",
       "    <tr>\n",
       "      <th>542</th>\n",
       "      <td>-0.105192</td>\n",
       "      <td>-0.193028</td>\n",
       "      <td>-0.095413</td>\n",
       "      <td>-0.261189</td>\n",
       "      <td>-0.115833</td>\n",
       "      <td>-0.118536</td>\n",
       "    </tr>\n",
       "    <tr>\n",
       "      <th>543</th>\n",
       "      <td>-0.153989</td>\n",
       "      <td>0.006972</td>\n",
       "      <td>-0.095413</td>\n",
       "      <td>-0.261189</td>\n",
       "      <td>-0.099175</td>\n",
       "      <td>-0.106597</td>\n",
       "    </tr>\n",
       "    <tr>\n",
       "      <th>544</th>\n",
       "      <td>-0.089384</td>\n",
       "      <td>0.006972</td>\n",
       "      <td>-0.095413</td>\n",
       "      <td>-0.261189</td>\n",
       "      <td>-0.071171</td>\n",
       "      <td>-0.075771</td>\n",
       "    </tr>\n",
       "  </tbody>\n",
       "</table>\n",
       "<p>545 rows × 6 columns</p>\n",
       "</div>"
      ],
      "text/plain": [
       "         area  bedrooms  bathrooms     price  prediction_math  \\\n",
       "0    0.155977  0.206972   0.237920  0.738811         0.190883   \n",
       "1    0.261818  0.206972   0.904587  0.647902         0.472539   \n",
       "2    0.330547  0.006972   0.237920  0.647902         0.228744   \n",
       "3    0.161475  0.206972   0.237920  0.644872         0.193266   \n",
       "4    0.155977  0.206972  -0.095413  0.575175         0.072994   \n",
       "..        ...       ...        ...       ...              ...   \n",
       "540 -0.147804 -0.193028  -0.095413 -0.255128        -0.134304   \n",
       "541 -0.189041  0.006972  -0.095413 -0.259704        -0.114369   \n",
       "542 -0.105192 -0.193028  -0.095413 -0.261189        -0.115833   \n",
       "543 -0.153989  0.006972  -0.095413 -0.261189        -0.099175   \n",
       "544 -0.089384  0.006972  -0.095413 -0.261189        -0.071171   \n",
       "\n",
       "     prediction_analitic  \n",
       "0               0.196528  \n",
       "1               0.487038  \n",
       "2               0.244600  \n",
       "3               0.199151  \n",
       "4               0.076524  \n",
       "..                   ...  \n",
       "540            -0.138868  \n",
       "541            -0.123321  \n",
       "542            -0.118536  \n",
       "543            -0.106597  \n",
       "544            -0.075771  \n",
       "\n",
       "[545 rows x 6 columns]"
      ]
     },
     "execution_count": 404,
     "metadata": {},
     "output_type": "execute_result"
    }
   ],
   "source": [
    "norm_copy = norm_data.copy()\n",
    "norm_copy[\"prediction_math\"] = w_0 +  \\\n",
    "                          norm_copy[\"area\"]*w_1 + \\\n",
    "                          norm_copy[\"bedrooms\"]*w_2 + \\\n",
    "                          norm_copy[\"bathrooms\"]*w_3\n",
    "\n",
    "norm_copy[\"prediction_analitic\"] = regressor.intercept_ +  \\\n",
    "                          norm_copy[\"area\"]*regressor.coef_[0] + \\\n",
    "                          norm_copy[\"bedrooms\"]*regressor.coef_[1] + \\\n",
    "                          norm_copy[\"bathrooms\"]*regressor.coef_[2]\n",
    "\n",
    "norm_copy"
   ]
  },
  {
   "cell_type": "code",
   "execution_count": 406,
   "id": "baeb2f80-63fe-48ff-ab07-26a2a5db4412",
   "metadata": {},
   "outputs": [
    {
     "data": {
      "text/plain": [
       "0.013471328211825749"
      ]
     },
     "execution_count": 406,
     "metadata": {},
     "output_type": "execute_result"
    }
   ],
   "source": [
    "mean_squared_error(norm_copy[\"price\"], norm_copy[\"prediction_math\"])"
   ]
  },
  {
   "cell_type": "code",
   "execution_count": 407,
   "id": "d03f13d1-40b9-4951-a7be-b98c4c5b5d55",
   "metadata": {},
   "outputs": [
    {
     "data": {
      "text/plain": [
       "0.01342681021702981"
      ]
     },
     "execution_count": 407,
     "metadata": {},
     "output_type": "execute_result"
    }
   ],
   "source": [
    "mean_squared_error(norm_copy[\"price\"], norm_copy[\"prediction_analitic\"])"
   ]
  }
 ],
 "metadata": {
  "kernelspec": {
   "display_name": "Python 3 (ipykernel)",
   "language": "python",
   "name": "python3"
  },
  "language_info": {
   "codemirror_mode": {
    "name": "ipython",
    "version": 3
   },
   "file_extension": ".py",
   "mimetype": "text/x-python",
   "name": "python",
   "nbconvert_exporter": "python",
   "pygments_lexer": "ipython3",
   "version": "3.11.1"
  }
 },
 "nbformat": 4,
 "nbformat_minor": 5
}
