{
 "cells": [
  {
   "cell_type": "code",
   "execution_count": null,
   "id": "201bf754-28a2-4fd0-9658-e8991d6d8da6",
   "metadata": {},
   "outputs": [],
   "source": [
    "import pandas as pd\n",
    "import numpy as np\n",
    "import matplotlib.pyplot as plt"
   ]
  },
  {
   "cell_type": "markdown",
   "id": "3713963b-2553-4bf2-bca4-b01e1ade8786",
   "metadata": {},
   "source": [
    "1. Напишіть функцію гіпотези лінійної регресії у векторному вигляді;"
   ]
  },
  {
   "cell_type": "code",
   "execution_count": null,
   "id": "99ab9d59-c41e-4c1f-8a38-61dfebf71e3e",
   "metadata": {},
   "outputs": [],
   "source": [
    "def h(x, w_0, w_1):\n",
    "    return w_1 * x + w_0"
   ]
  },
  {
   "cell_type": "markdown",
   "id": "40706602-3675-445e-8d3b-7fca5fb0705b",
   "metadata": {},
   "source": [
    "2. Cтворіть функцію для обчислення функції втрат у векторному вигляді;"
   ]
  },
  {
   "cell_type": "code",
   "execution_count": null,
   "id": "e781f24e-33e7-4f3c-9513-97589d67d84b",
   "metadata": {},
   "outputs": [],
   "source": [
    "def loss_function(w_0, w_1, df):\n",
    "    n = df.shape[0]\n",
    "    cost = 0\n",
    "\n",
    "    for index, row in df.iterrows():\n",
    "        cost += (h(row['area'], w_0, w_1) - row['price']) ** 2 \n",
    "\n",
    "    return cost / (2 * n)"
   ]
  },
  {
   "cell_type": "markdown",
   "id": "4b4c1187-0dd3-4761-9169-721cc757db46",
   "metadata": {},
   "source": [
    "3. Реалізуйте один крок градієнтного спуску;"
   ]
  },
  {
   "cell_type": "code",
   "execution_count": null,
   "id": "a64bc2dd-ad71-48a0-9270-d6157fafeba2",
   "metadata": {},
   "outputs": [],
   "source": [
    "data = pd.read_csv(\"Housing.csv\")\n",
    "data.head()\n",
    "# min_, max_ = data['price'].agg(['min', 'max'])\n",
    "\n",
    "# np.arange(min_, max_, 100)\n",
    "# print(min_, max_)\n",
    "# w_0 = 0\n",
    "# w_1 = np.arange(min_, max_, 10000)\n",
    "\n",
    "\n",
    "# print([loss_function(w_0, w, data) for w in w_1])\n",
    "# plt.plot(w_1, [loss_function(w_0, w, data) for w in w_1])\n",
    "# plt.show()\n",
    "# print(loss_function(1,3, data))"
   ]
  },
  {
   "cell_type": "code",
   "execution_count": null,
   "id": "5fb88095-65a6-46c8-af05-ab1864d80083",
   "metadata": {},
   "outputs": [],
   "source": []
  },
  {
   "cell_type": "code",
   "execution_count": null,
   "id": "6d2ba8ef-fb47-4770-a525-d870b5f38dab",
   "metadata": {},
   "outputs": [],
   "source": []
  }
 ],
 "metadata": {
  "kernelspec": {
   "display_name": "Python 3 (ipykernel)",
   "language": "python",
   "name": "python3"
  },
  "language_info": {
   "codemirror_mode": {
    "name": "ipython",
    "version": 3
   },
   "file_extension": ".py",
   "mimetype": "text/x-python",
   "name": "python",
   "nbconvert_exporter": "python",
   "pygments_lexer": "ipython3",
   "version": "3.11.1"
  }
 },
 "nbformat": 4,
 "nbformat_minor": 5
}
